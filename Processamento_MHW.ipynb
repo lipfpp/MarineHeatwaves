{
 "cells": [
  {
   "cell_type": "code",
   "execution_count": null,
   "id": "6af7a8d7",
   "metadata": {},
   "outputs": [],
   "source": [
    "import pandas as pd\n",
    "import numpy as np\n",
    "import matplotlib.pyplot as plt\n",
    "import datetime\n",
    "import xarray as xr\n",
    "import cartopy.crs as ccrs\n",
    "import cartopy.feature as cfeature\n",
    "import os \n",
    "from pylab import *"
   ]
  },
  {
   "cell_type": "markdown",
   "id": "b2a4d982",
   "metadata": {},
   "source": [
    "**Limites da região**\\\n",
    "Benguela: Latitude: 39°S - 17°S; Longitude: 8°E to 31°E\\"
   ]
  },
  {
   "cell_type": "code",
   "execution_count": null,
   "id": "2dd9f5c9",
   "metadata": {},
   "outputs": [],
   "source": [
    "benguela=xr.open_dataset('/home/lipfp/Documentos/Marine_Heatwaves/saidas/Benguela/SST_MHW_Benguela_Agulhas.nc', chunks={'time':10})\n",
    "\n",
    "### para reagrupar os chunks \n",
    "### benguela.unify_chunks()"
   ]
  },
  {
   "cell_type": "code",
   "execution_count": null,
   "id": "09127c0b",
   "metadata": {},
   "outputs": [],
   "source": [
    "time=benguela.time\n",
    "newtime=[datetime.datetime.fromordinal(int(time[i].data)) for i in range(len(time))] # criando o intervalo de tempo\n",
    "benguela=benguela.assign(time=newtime)\n",
    "\n",
    "del time"
   ]
  },
  {
   "cell_type": "code",
   "execution_count": null,
   "id": "93dfda08",
   "metadata": {},
   "outputs": [],
   "source": [
    "benguela=benguela.sel(time=slice('1990','2020'))\n",
    "benguela=benguela.where(benguela>-1000)"
   ]
  },
  {
   "cell_type": "code",
   "execution_count": null,
   "id": "8dde0a94",
   "metadata": {},
   "outputs": [],
   "source": [
    "mhw_category = benguela.mhw_category.where(benguela.mhw_category>0)\n",
    "sst_anom=benguela.sst_anom #sst anomalia\n",
    "sst=benguela.sst      #sst \n",
    "seas=benguela.seas    #climatologia\n",
    "thresh=benguela.thresh #percentil 90\n",
    "sst_anom_event=benguela.sst_anom.where(benguela.mhw_category>0)\n",
    "sst_acum=sst_anom_event.where(sst_anom_event>0)\n",
    "\n",
    "##Transformando a variável \"mhw_category\" para a contagem.\n",
    "mhw_category_new = mhw_category*0\n",
    "mhw_category_new = mhw_category_new+1"
   ]
  },
  {
   "cell_type": "code",
   "execution_count": null,
   "id": "a2bc34dc",
   "metadata": {},
   "outputs": [],
   "source": [
    "land = cfeature.NaturalEarthFeature('physical', \n",
    "                                    'land', \n",
    "                                    '50m', \n",
    "                                    edgecolor='black',\n",
    "                                    facecolor='gray')\n",
    "fig, axis = plt.subplots(\n",
    "    1, 1, subplot_kw=dict(projection=ccrs.PlateCarree())\n",
    ")\n",
    "### somatório dos valores positivos \n",
    "sst_acum.sum(dim='time').plot.contourf(\n",
    "    ax=axis,\n",
    "    transform=ccrs.PlateCarree(),  \n",
    "    cmap='hot_r',\n",
    "    cbar_kwargs={\"orientation\": \"horizontal\", \"label\":\"°C-days\",\"shrink\": 0.8},\n",
    "    robust=True, levels=15\n",
    ")\n",
    "# plt.text( 349, -6, 'South Atlantic',fontdict={'fontsize':'12'},horizontalalignment='right', transform=ccrs.Geodetic())\n",
    "# plt.text( 319, 41, 'North Atlantic',fontdict={'fontsize':'12'},horizontalalignment='right', transform=ccrs.Geodetic())\n",
    "axis.coastlines() \n",
    "axis.add_feature(land, linewidth=0.25)\n",
    "axis.add_feature(cfeature.BORDERS, linewidth=1)\n",
    "gl=axis.gridlines(draw_labels=True,linestyle='--')\n",
    "gl.top_labels=False\n",
    "gl.right_labels\n",
    "gl.left_labels=False\n",
    "gl.bottom_labels\n",
    "plt.title('MHW Intensity (1990-2020)', size=15)\n",
    "fig.set_size_inches(10,10)\n",
    "# fig.savefig('mhw_intensity.jpeg')"
   ]
  },
  {
   "cell_type": "code",
   "execution_count": null,
   "id": "e970972c",
   "metadata": {},
   "outputs": [],
   "source": [
    "## gráfico mostrando a quantidade de dias com MHW\n",
    "land = cfeature.NaturalEarthFeature('physical', \n",
    "                                    'land', \n",
    "                                    '50m', \n",
    "                                    edgecolor='black',\n",
    "                                    facecolor='gray')\n",
    "fig, axis = plt.subplots(\n",
    "    1, 1, subplot_kw=dict(projection=ccrs.PlateCarree())\n",
    ")\n",
    "\n",
    "mhw_category_new.sum(dim='time').plot.contourf(vmin=500,vmax=1000,\n",
    "    ax=axis,\n",
    "    transform=ccrs.PlateCarree(), \n",
    "    cmap='RdYlBu_r',\n",
    "    cbar_kwargs={\"orientation\": \"horizontal\", \"label\":\"Nº of MHW days | 1982-1985 \",\"shrink\": 0.8},\n",
    "    robust=True,levels=15\n",
    ")\n",
    "# plt.text( 349, - 6, 'South Atlantic',fontdict={'fontsize':'12'},horizontalalignment='right', transform=ccrs.Geodetic())\n",
    "# plt.text( 319, 41, 'North Atlantic',fontdict={'fontsize':'12'},horizontalalignment='right', transform=ccrs.Geodetic())\n",
    "axis.coastlines() \n",
    "axis.add_feature(land, linewidth=0.25)\n",
    "axis.add_feature(cfeature.BORDERS, linewidth=1)\n",
    "gl=axis.gridlines(draw_labels=True,linestyle='--')\n",
    "gl.top_labels=False\n",
    "gl.right_labels\n",
    "gl.left_labels=False\n",
    "gl.bottom_labels\n",
    "plt.title('MHW frequency  (1990-2020)', size=15)\n",
    "fig.set_size_inches(10,10)\n",
    "# fig.savefig('MHW_frequency.jpeg')"
   ]
  },
  {
   "cell_type": "markdown",
   "id": "429a15db",
   "metadata": {},
   "source": [
    "**Selecionando a região para trabalhar nos gráficos**"
   ]
  },
  {
   "cell_type": "code",
   "execution_count": null,
   "id": "d913c181",
   "metadata": {},
   "outputs": [],
   "source": [
    "## anomalia media de toda a série temporal\n",
    "land = cfeature.NaturalEarthFeature('physical', \n",
    "                                    'land', \n",
    "                                    '50m', \n",
    "                                    edgecolor='black',\n",
    "                                    facecolor='gray')\n",
    "fig, axis = plt.subplots(\n",
    "    1, 1, subplot_kw=dict(projection=ccrs.PlateCarree())\n",
    ")\n",
    "\n",
    "sst_anom.mean(dim='time').plot.contourf(\n",
    "    ax=axis,\n",
    "    transform=ccrs.PlateCarree(), \n",
    "    cmap='Spectral_r',\n",
    "    cbar_kwargs={\"orientation\": \"horizontal\", \"label\":\"°C\",\"shrink\": 0.8},\n",
    "    robust=True,levels=15\n",
    ")\n",
    "# plt.text( 349, - 6, 'South Atlantic',fontdict={'fontsize':'12'},horizontalalignment='right', transform=ccrs.Geodetic())\n",
    "# plt.text( 319, 41, 'North Atlantic',fontdict={'fontsize':'12'},horizontalalignment='right', transform=ccrs.Geodetic())\n",
    "# plt.plot([9,11.7],[-17.8,-17.8],color='k', lw=2, ls='--')\n",
    "plt.plot([10.9,10.9],[-17.8,-17.8],color='k',  marker='o',lw=6, linestyle='dashed',markersize=12)\n",
    "axis.coastlines() \n",
    "axis.add_feature(land, linewidth=0.25)\n",
    "axis.add_feature(cfeature.BORDERS, linewidth=1)\n",
    "gl=axis.gridlines(draw_labels=True,linestyle='--')\n",
    "gl.top_labels=False\n",
    "gl.right_labels\n",
    "gl.left_labels=False\n",
    "gl.bottom_labels\n",
    "plt.title('SST anomaly | (1990-2020)', size=15)\n",
    "fig.set_size_inches(10,10)\n",
    "# fig.savefig('SST_anomaly.jpeg')"
   ]
  },
  {
   "cell_type": "markdown",
   "id": "c792cdd5",
   "metadata": {},
   "source": [
    "**SST-CLIMATOLOGIA- PERCENTIL 90**"
   ]
  },
  {
   "cell_type": "code",
   "execution_count": null,
   "id": "d63b3547",
   "metadata": {},
   "outputs": [],
   "source": [
    "lat18=benguela.sel(lat=[-17],lon=[10.9], method='nearest')\n",
    "lat18_res=lat18.resample(time='11d').mean()"
   ]
  },
  {
   "cell_type": "code",
   "execution_count": null,
   "id": "55022226",
   "metadata": {},
   "outputs": [],
   "source": [
    "fig, ax=plt.subplots(figsize=(40,10))\n",
    "\n",
    "a=lat18_res.sst.mean(dim='lon').plot(lw=2)\n",
    "b=lat18_res.seas.mean(dim='lon').plot()\n",
    "c=lat18_res.thresh.mean(dim='lon').plot(lw=2, color='g')\n",
    "d=plt.axhline(y = 25, color = 'r', linestyle = '-')\n",
    "plt.legend(loc=3,labels=('SST','SST mean','pc 90','SST max'), prop={'size': 16})\n",
    "plt.title('Latitude ~17.8 S', size=20)\n",
    "plt.xticks(size=16)\n",
    "plt.yticks(size=16)\n",
    "plt.ylabel('SST', size=16)\n",
    "plt.xlabel('Time', size=16)\n",
    "plt.xlim('1989','2021')\n",
    "ax.xaxis.set_major_locator(plt.MaxNLocator(20))\n",
    "\n",
    "fill([9000,9000,9400,9400], [15,27,27,15], 'r', alpha=0.1)\n",
    "fill([14800,14800,15200,15200], [15,27,27,15], 'r', alpha=0.1)\n",
    "fill([18100,18100,18500,18500], [15,27,27,15], 'r', alpha=0.1)\n",
    "\n",
    "plt.savefig('lat17_allseries.jpeg')"
   ]
  },
  {
   "cell_type": "code",
   "execution_count": null,
   "id": "71a69af9",
   "metadata": {},
   "outputs": [],
   "source": [
    "benguela.sst.isel(time=1995).sel(lat=[-18, -25, -30], method=\"nearest\").plot(\n",
    "    x=\"lon\", hue=\"lat\")"
   ]
  }
 ],
 "metadata": {
  "kernelspec": {
   "display_name": "Python 3",
   "language": "python",
   "name": "python3"
  },
  "language_info": {
   "codemirror_mode": {
    "name": "ipython",
    "version": 3
   },
   "file_extension": ".py",
   "mimetype": "text/x-python",
   "name": "python",
   "nbconvert_exporter": "python",
   "pygments_lexer": "ipython3",
   "version": "3.8.3"
  }
 },
 "nbformat": 4,
 "nbformat_minor": 5
}
